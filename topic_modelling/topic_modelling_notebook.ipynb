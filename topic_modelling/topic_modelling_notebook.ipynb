{
 "cells": [
  {
   "cell_type": "code",
   "execution_count": 1,
   "metadata": {},
   "outputs": [
    {
     "name": "stderr",
     "output_type": "stream",
     "text": [
      "/home/vscode/.local/lib/python3.11/site-packages/tqdm/auto.py:21: TqdmWarning: IProgress not found. Please update jupyter and ipywidgets. See https://ipywidgets.readthedocs.io/en/stable/user_install.html\n",
      "  from .autonotebook import tqdm as notebook_tqdm\n"
     ]
    }
   ],
   "source": [
    "from top2vec import Top2Vec\n",
    "import pandas as pd"
   ]
  },
  {
   "cell_type": "code",
   "execution_count": 3,
   "metadata": {},
   "outputs": [
    {
     "data": {
      "text/html": [
       "<div>\n",
       "<style scoped>\n",
       "    .dataframe tbody tr th:only-of-type {\n",
       "        vertical-align: middle;\n",
       "    }\n",
       "\n",
       "    .dataframe tbody tr th {\n",
       "        vertical-align: top;\n",
       "    }\n",
       "\n",
       "    .dataframe thead th {\n",
       "        text-align: right;\n",
       "    }\n",
       "</style>\n",
       "<table border=\"1\" class=\"dataframe\">\n",
       "  <thead>\n",
       "    <tr style=\"text-align: right;\">\n",
       "      <th></th>\n",
       "      <th>description</th>\n",
       "    </tr>\n",
       "  </thead>\n",
       "  <tbody>\n",
       "    <tr>\n",
       "      <th>0</th>\n",
       "      <td>40% of the work scope could only be completed ...</td>\n",
       "    </tr>\n",
       "    <tr>\n",
       "      <th>1</th>\n",
       "      <td>The compound license agreement expired and the...</td>\n",
       "    </tr>\n",
       "    <tr>\n",
       "      <th>2</th>\n",
       "      <td>Very poor detailing on AFCs and lack of any ow...</td>\n",
       "    </tr>\n",
       "    <tr>\n",
       "      <th>3</th>\n",
       "      <td>Lack of communication between CRE and Site Tea...</td>\n",
       "    </tr>\n",
       "    <tr>\n",
       "      <th>4</th>\n",
       "      <td>Adequate supervision was provided for the init...</td>\n",
       "    </tr>\n",
       "  </tbody>\n",
       "</table>\n",
       "</div>"
      ],
      "text/plain": [
       "                                         description\n",
       "0  40% of the work scope could only be completed ...\n",
       "1  The compound license agreement expired and the...\n",
       "2  Very poor detailing on AFCs and lack of any ow...\n",
       "3  Lack of communication between CRE and Site Tea...\n",
       "4  Adequate supervision was provided for the init..."
      ]
     },
     "execution_count": 3,
     "metadata": {},
     "output_type": "execute_result"
    }
   ],
   "source": [
    "data = pd.read_csv(\"data/new_data.csv\")\n",
    "data.head()"
   ]
  },
  {
   "cell_type": "code",
   "execution_count": 4,
   "metadata": {},
   "outputs": [],
   "source": [
    "docs = data.description.tolist()"
   ]
  },
  {
   "cell_type": "code",
   "execution_count": 5,
   "metadata": {},
   "outputs": [
    {
     "name": "stderr",
     "output_type": "stream",
     "text": [
      "2025-01-05 09:47:46,697 - top2vec - INFO - Pre-processing documents for training\n",
      "/home/vscode/.local/lib/python3.11/site-packages/sklearn/feature_extraction/text.py:517: UserWarning: The parameter 'token_pattern' will not be used since 'tokenizer' is not None'\n",
      "  warnings.warn(\n",
      "2025-01-05 09:47:47,251 - top2vec - INFO - Downloading all-MiniLM-L6-v2 model\n",
      "2025-01-05 09:47:48,791 - top2vec - INFO - Creating joint document/word embedding\n",
      "2025-01-05 09:49:44,060 - top2vec - INFO - Creating lower dimension embedding of documents\n",
      "/home/vscode/.local/lib/python3.11/site-packages/sklearn/utils/deprecation.py:151: FutureWarning: 'force_all_finite' was renamed to 'ensure_all_finite' in 1.6 and will be removed in 1.8.\n",
      "  warnings.warn(\n",
      "2025-01-05 09:50:06,464 - top2vec - INFO - Finding dense areas of documents\n",
      "/home/vscode/.local/lib/python3.11/site-packages/sklearn/utils/deprecation.py:151: FutureWarning: 'force_all_finite' was renamed to 'ensure_all_finite' in 1.6 and will be removed in 1.8.\n",
      "  warnings.warn(\n",
      "/home/vscode/.local/lib/python3.11/site-packages/sklearn/utils/deprecation.py:151: FutureWarning: 'force_all_finite' was renamed to 'ensure_all_finite' in 1.6 and will be removed in 1.8.\n",
      "  warnings.warn(\n",
      "2025-01-05 09:50:06,584 - top2vec - INFO - Finding topics\n"
     ]
    }
   ],
   "source": [
    "model = Top2Vec(docs, min_count=20)"
   ]
  },
  {
   "cell_type": "markdown",
   "metadata": {},
   "source": [
    "experiment with the model created"
   ]
  },
  {
   "cell_type": "code",
   "execution_count": 6,
   "metadata": {},
   "outputs": [],
   "source": [
    "# get the topics identified by the model\n",
    "model.get_num_topics()\n",
    "\n",
    "topic_sizes, topic_nums = model.get_topic_sizes()"
   ]
  },
  {
   "cell_type": "code",
   "execution_count": 7,
   "metadata": {},
   "outputs": [
    {
     "name": "stdout",
     "output_type": "stream",
     "text": [
      "[610 269 247 236 216 203 186 154 146 144 132 122 107 104 102  82  78  76\n",
      "  75  68  61  59  50  47  37  27]\n"
     ]
    }
   ],
   "source": [
    "# the topic sizes gives the number of documents in each topic\n",
    "print(topic_sizes) "
   ]
  },
  {
   "cell_type": "code",
   "execution_count": 8,
   "metadata": {},
   "outputs": [
    {
     "name": "stdout",
     "output_type": "stream",
     "text": [
      "[ 0  1  2  3  4  5  6  7  8  9 10 11 12 13 14 15 16 17 18 19 20 21 22 23\n",
      " 24 25]\n"
     ]
    }
   ],
   "source": [
    "# topic nums shows the number of topics identified in the document\n",
    "print(topic_nums)"
   ]
  },
  {
   "cell_type": "code",
   "execution_count": 9,
   "metadata": {},
   "outputs": [],
   "source": [
    "#get the word groups in each topic\n",
    "topic_words, word_scores, topic_nums = model.get_topics(10)\n"
   ]
  },
  {
   "cell_type": "code",
   "execution_count": 10,
   "metadata": {},
   "outputs": [
    {
     "name": "stdout",
     "output_type": "stream",
     "text": [
      "0\n",
      "Words: ['construction' 'scaffolding' 'designs' 'design' 'building' 'excavation'\n",
      " 'buildability' 'surveying' 'contractors' 'workshop' 'contractor'\n",
      " 'fabrication' 'build' 'detailing' 'inspections' 'designers' 'designed'\n",
      " 'specification' 'constructed' 'inspection' 'easement' 'repairs'\n",
      " 'steelwork' 'procurement' 'development' 'foundations' 'projects'\n",
      " 'parapets' 'concrete' 'built' 'commissioning' 'parapet' 'engineering'\n",
      " 'compliant' 'refurbishment' 'brickwork' 'maintenance' 'planning'\n",
      " 'develop' 'stakeholders' 'requirements' 'footbridge' 'demolition'\n",
      " 'designer' 'drawings' 'methodology' 'structural' 'drilling' 'engineer'\n",
      " 'manufacturing']\n",
      "1\n",
      "Words: ['jms' 'management' 'managers' 'manage' 'tm' 'stakeholders'\n",
      " 'commissioning' 'manager' 'cdm' 'jv' 'contractors' 'maintenance'\n",
      " 'workshop' 'cem' 'resourcing' 'briefings' 'clients' 'practices'\n",
      " 'inspections' 'staff' 'procurement' 'personnel' 'employees' 'development'\n",
      " 'workforce' 'companies' 'facilities' 'projects' 'briefing' 'contractor'\n",
      " 'production' 'construction' 'surveying' 'contracts' 'contractual'\n",
      " 'methodology' 'audits' 'maintain' 'competencies' 'managed' 'ensuring'\n",
      " 'supervisors' 'repairs' 'company' 'services' 'requirements' 'meetings'\n",
      " 'duties' 'supervision' 'steelwork']\n",
      "2\n",
      "Words: ['facilities' 'excavation' 'easement' 'scaffolding' 'areas' 'construction'\n",
      " 'cabins' 'maintenance' 'surveying' 'practices' 'establishment'\n",
      " 'foundations' 'building' 'signage' 'planning' 'topsoil' 'duties'\n",
      " 'offices' 'ensuring' 'footbridge' 'panels' 'placing' 'utilising'\n",
      " 'services' 'workshop' 'utilised' 'area' 'inspection' 'inspections'\n",
      " 'setup' 'locations' 'staff' 'compliance' 'environment' 'permits' 'visits'\n",
      " 'mitigation' 'development' 'projects' 'placement' 'requirements'\n",
      " 'management' 'repairs' 'stakeholders' 'design' 'contractors' 'maintain'\n",
      " 'landowners' 'equipment' 'embankment']\n",
      "3\n",
      "Words: ['programmes' 'programme' 'commissioning' 'procurement' 'development'\n",
      " 'provision' 'planning' 'maintenance' 'deadlines' 'management' 'program'\n",
      " 'workshop' 'contractual' 'detailing' 'specification' 'projects'\n",
      " 'production' 'undertaken' 'tasks' 'contracts' 'planner' 'incurred'\n",
      " 'commencing' 'construction' 'delivering' 'plans' 'briefings' 'delays'\n",
      " 'develop' 'utilised' 'procedures' 'planned' 'methodology' 'progressed'\n",
      " 'contractor' 'organise' 'stakeholders' 'briefing' 'contractors'\n",
      " 'contract' 'utilising' 'productivity' 'labour' 'requirements' 'issuing'\n",
      " 'progress' 'schedule' 'requirement' 'surveying' 'advance']\n",
      "4\n",
      "Words: ['disposal' 'drainage' 'excavation' 'waste' 'maintenance' 'environmental'\n",
      " 'recycled' 'topsoil' 'hazards' 'demolition' 'repairs' 'environment'\n",
      " 'inspection' 'soil' 'embankment' 'mitigation' 'facilities' 'maintain'\n",
      " 'production' 'diversion' 'detailing' 'cleaning' 'inspections'\n",
      " 'stakeholders' 'projects' 'ditch' 'construction' 'practices'\n",
      " 'excavations' 'accidents' 'scaffolding' 'piles' 'building' 'easement'\n",
      " 'earthworks' 'pipeline' 'development' 'documented' 'utilised' 'pipes'\n",
      " 'cleaner' 'concrete' 'utilising' 'excavated' 'incidents' 'drilling'\n",
      " 'retaining' 'eco' 'tasks' 'refurbishment']\n",
      "5\n",
      "Words: ['training' 'competencies' 'labour' 'workforce' 'staff' 'employ'\n",
      " 'personnel' 'employed' 'duties' 'management' 'employees' 'roles'\n",
      " 'employer' 'contractors' 'managers' 'supervisors' 'competency'\n",
      " 'contractor' 'competence' 'supervision' 'hiring' 'trained' 'procurement'\n",
      " 'commissioning' 'tasks' 'jobs' 'qualified' 'skills' 'skilled' 'manage'\n",
      " 'competent' 'maintenance' 'inspections' 'hire' 'courses' 'hr'\n",
      " 'facilities' 'resourcing' 'delivering' 'hrs' 'supervisor' 'practices'\n",
      " 'agency' 'workshop' 'ensuring' 'manager' 'contracts' 'certification'\n",
      " 'contractual' 'construction']\n",
      "6\n",
      "Words: ['maintenance' 'plant' 'production' 'facilities' 'contractors'\n",
      " 'inspections' 'suppliers' 'commissioning' 'inspection' 'procurement'\n",
      " 'contractor' 'repairs' 'deliveries' 'supplier' 'excavation'\n",
      " 'manufacturing' 'construction' 'produce' 'delivering' 'vegetation'\n",
      " 'paperwork' 'deliverables' 'employer' 'companies' 'management'\n",
      " 'contractual' 'employed' 'maintain' 'equipment' 'manufacture' 'detailing'\n",
      " 'offices' 'hiring' 'company' 'employ' 'audits' 'employees' 'workshop'\n",
      " 'provision' 'utilising' 'projects' 'packages' 'duties' 'building' 'hire'\n",
      " 'dept' 'operational' 'contracts' 'engineer' 'staff']\n",
      "7\n",
      "Words: ['contractual' 'contracts' 'contract' 'tender' 'agreements' 'procurement'\n",
      " 'clients' 'invoices' 'stakeholders' 'contractor' 'contractors' 'incurred'\n",
      " 'specification' 'client' 'documentation' 'provision' 'development'\n",
      " 'paperwork' 'maintenance' 'commissioning' 'agreement' 'resourcing'\n",
      " 'production' 'payments' 'pricing' 'requirements' 'management' 'liaise'\n",
      " 'filing' 'audits' 'issuing' 'compliant' 'costs' 'compensation'\n",
      " 'delivering' 'firm' 'methodology' 'detailing' 'staff' 'payment'\n",
      " 'financial' 'repairs' 'consideration' 'revision' 'deadlines' 'signing'\n",
      " 'briefings' 'compliance' 'specifications' 'budget']\n",
      "8\n",
      "Words: ['subcontractor' 'subcontractors' 'subcontract' 'contractors'\n",
      " 'procurement' 'contractor' 'contracts' 'suppliers' 'workshop'\n",
      " 'construction' 'surveying' 'contractual' 'supplier' 'resourcing'\n",
      " 'delivering' 'companies' 'excavation' 'production' 'scaffolding'\n",
      " 'contract' 'deliveries' 'labour' 'stakeholders' 'inspections' 'dept'\n",
      " 'projects' 'clients' 'commissioning' 'detailing' 'development'\n",
      " 'manufacturing' 'components' 'agreements' 'meetings' 'maintenance'\n",
      " 'fabrication' 'building' 'facilities' 'designers' 'invoices' 'equipment'\n",
      " 'compliant' 'sub' 'providing' 'deliverables' 'buildability' 'agency'\n",
      " 'company' 'welding' 'courses']\n",
      "9\n",
      "Words: ['collaboration' 'projects' 'stakeholders' 'management' 'development'\n",
      " 'meetings' 'organise' 'collaborative' 'roles' 'develop' 'manage' 'tasks'\n",
      " 'staff' 'team' 'workshop' 'methodology' 'clients' 'managers'\n",
      " 'involvement' 'employees' 'coordination' 'building' 'meeting' 'practices'\n",
      " 'briefings' 'competencies' 'role' 'workforce' 'personnel' 'construction'\n",
      " 'success' 'teams' 'maintenance' 'ensuring' 'production' 'design'\n",
      " 'contractors' 'build' 'facilities' 'crew' 'briefing' 'skills'\n",
      " 'scaffolding' 'buildability' 'resourcing' 'developed' 'supervisors'\n",
      " 'strategy' 'task' 'communicated']\n"
     ]
    }
   ],
   "source": [
    "for words, scores, num in zip(topic_words, word_scores, topic_nums):\n",
    "    print(num)\n",
    "    print(f'Words: {words}')"
   ]
  },
  {
   "cell_type": "code",
   "execution_count": 11,
   "metadata": {},
   "outputs": [
    {
     "name": "stdout",
     "output_type": "stream",
     "text": [
      "Document: 821, Score: 0.8476945161819458\n",
      "-----------\n",
      "Utilise JMS for resources to reduce reliance on agency labour. ■ Need proactive management of bricklayers and joiners, no continuity ■ Doc controller sacked half way through and no replacement. Use JMS operatives and safety critical operatives where ever possible.\n",
      "-----------\n",
      "\n",
      "Document: 2364, Score: 0.825724720954895\n",
      "-----------\n",
      "Good communication between all parties prior to works commencing each week. Pre-Start meetings held on a weekly basis. Ensure Pre-Start meetings are held each week to discuss the upcoming works. Good management during possessions from JMS. The full shift was utilised, and JMS ES/COSS was accommodating to works. Good communication between JMS, Subcontractor and Design with any issues that arose on site (i.e. drilling locations). Good flexibility. Surveys findings where submitted to JMS in good timing once completed. Having all parties involved and communicating with one another from early on in the project worked well and having all involved in Pre-Start meetings.\n",
      "-----------\n",
      "\n",
      "Document: 833, Score: 0.82411789894104\n",
      "-----------\n",
      "The JMS temporary works team did a good job. The temporary works process was followed through correctly and all documentation kept up to date. Site visits by the temporary works teams will help with ensuring the design is adequate and the proper process is put in place and adhered to.\n",
      "-----------\n",
      "\n",
      "Document: 504, Score: 0.82411789894104\n",
      "-----------\n",
      "The JMS temporary works team did a good job. The temporary works process was followed through correctly and all documentation kept up to date. Site visits by the temporary works teams will help with ensuring the design is adequate and the proper process is put in place and adhered to.\n",
      "-----------\n",
      "\n",
      "Document: 565, Score: 0.82411789894104\n",
      "-----------\n",
      "The JMS temporary works team did a good job. The temporary works process was followed through correctly and all documentation kept up to date .Site visits by the temporary works teams will help with ensuring the design is adequate and the proper process is put in place and adhered to.\n",
      "-----------\n",
      "\n"
     ]
    }
   ],
   "source": [
    "documents, document_scores, document_ids = model.search_documents_by_topic(topic_num=1, num_docs=5)\n",
    "for doc, score, doc_id in zip(documents, document_scores, document_ids):\n",
    "    print(f\"Document: {doc_id}, Score: {score}\")\n",
    "    print(\"-----------\")\n",
    "    print(doc)\n",
    "    print(\"-----------\")\n",
    "    print()"
   ]
  },
  {
   "cell_type": "code",
   "execution_count": 12,
   "metadata": {},
   "outputs": [
    {
     "name": "stdout",
     "output_type": "stream",
     "text": [
      "Document: 1172, Score: 0.6029401771407675\n",
      "-----------\n",
      "Programme effectively started in delay due to need for additional procurement time for large packages(scaffolding and roofing) as a result of minimal contractors with the ability to complete the works and cost. Despite the initial delay an EoT of 8 weeks is agreed in principal with no penalties. When obtaining prices from contractors at tender stage consideration needs to be given on their ability and appetite to execute the works in the current competitive climate. Effective communication with the client and recording of delays and variations enabled agreement.\n",
      "-----------\n",
      "\n",
      "Document: 3280, Score: 0.5718628552811948\n",
      "-----------\n",
      "Deliveries - delays from suppliers due to payments being held.\n",
      "\n",
      "-----------\n",
      "\n",
      "Document: 1116, Score: 0.554788049494889\n",
      "-----------\n",
      "Procurement. Location of works. Late procurement delayed an already tight programme. Only avoided being penalised due to client inadequacies in other areas. Due to distance of works from London it proved difficult to get sub contractors on system interested in pricing.\n",
      "-----------\n",
      "\n",
      "Document: 2233, Score: 0.5083364395011969\n",
      "-----------\n",
      "Going through procurement was efficient on time.\n",
      "-----------\n",
      "\n",
      "Document: 1567, Score: 0.49806897533424316\n",
      "-----------\n",
      "Well resourced[1]Brian Saddington[1]Procurement Wolfgang Necke- Expedite No external Resources where required which are generally very costly .Resource in house where possible.\n",
      "-----------\n",
      "\n"
     ]
    }
   ],
   "source": [
    "documents, document_scores, document_ids = model.search_documents_by_keywords(keywords=[\"cost\", \"delays\", \"procurement\"], num_docs=5)\n",
    "for doc, score, doc_id in zip(documents, document_scores, document_ids):\n",
    "    print(f\"Document: {doc_id}, Score: {score}\")\n",
    "    print(\"-----------\")\n",
    "    print(doc)\n",
    "    print(\"-----------\")\n",
    "    print()"
   ]
  },
  {
   "cell_type": "code",
   "execution_count": 13,
   "metadata": {},
   "outputs": [
    {
     "name": "stdout",
     "output_type": "stream",
     "text": [
      "Most Relevant Documents:\n",
      "\n",
      "Score: 0.6632\n",
      "\n",
      "Document 3378:\n",
      "Storage of materials – Better coordination of when materials are required and\n",
      "when to request them to be brought to the project – procurement schedule\n",
      "required??\n",
      "--------------------------------------------------\n",
      "Score: 0.6561\n",
      "\n",
      "Document 1172:\n",
      "Programme effectively started in delay due to need for additional procurement\n",
      "time for large packages(scaffolding and roofing) as a result of minimal\n",
      "contractors with the ability to complete the works and cost. Despite the initial\n",
      "delay an EoT of 8 weeks is agreed in principal with no penalties. When obtaining\n",
      "prices from contractors at tender stage consideration needs to be given on their\n",
      "ability and appetite to execute the works in the current competitive climate.\n",
      "Effective communication with the client and recording of delays and variations\n",
      "enabled agreement.\n",
      "--------------------------------------------------\n",
      "Score: 0.6330\n",
      "\n",
      "Document 1819:\n",
      "Identification & Delivery of Materials Late delivery of all materials to the\n",
      "Barge. Including intermittent delivery items of the same order, causing\n",
      "confusion and delays to the project.\n",
      "--------------------------------------------------\n",
      "Score: 0.6255\n",
      "\n",
      "Document 660:\n",
      "Due the nature of this contract lead times on materials are a very important\n",
      "part in meeting deadlines on site. All materials are ordered once material take\n",
      "offs are received from the client so as manufacturing and installation is not\n",
      "delayed. Materials are ordered so as that we run at a minimum wasted material\n",
      "percentage as possible. Where possible we move the surplus materials to our next\n",
      "site. Where possible we buy in bulk so to reduce transportation and gain in\n",
      "reduced rates. Inspection and Quality control of materials is currently being\n",
      "carried out by myself. On such a large mechanical contract again I would have a\n",
      "quality person to assist on a part time basis as this can be very time consuming\n",
      "and pushed to the side from time to time.\n",
      "--------------------------------------------------\n",
      "Score: 0.6193\n",
      "\n",
      "Document 3280:\n",
      "Deliveries - delays from suppliers due to payments being held.\n",
      "--------------------------------------------------\n"
     ]
    }
   ],
   "source": [
    "import textwrap\n",
    "\n",
    "# Example usage of query_documents with text wrapping\n",
    "query = \"delivery delays of procured materials during project\"\n",
    "num_docs = 5\n",
    "\n",
    "# Assuming the model and query_documents function are defined\n",
    "documents, doc_scores, doc_ids = model.query_documents(query, num_docs)\n",
    "\n",
    "print(\"Most Relevant Documents:\\n\")\n",
    "for i, (ids,doc, score) in enumerate(zip(doc_ids,documents, doc_scores)):\n",
    "    print(f\"Score: {score:.4f}\\n\")\n",
    "    print(f\"Document {ids}:\")\n",
    "    print(\"\\n\".join(textwrap.wrap(doc, width=80)))  # Wrap the text to 80 characters per line\n",
    "    print(\"-\" * 50)\n"
   ]
  },
  {
   "cell_type": "code",
   "execution_count": 14,
   "metadata": {},
   "outputs": [],
   "source": [
    "model.save(\"data/topic_model\")"
   ]
  },
  {
   "cell_type": "code",
   "execution_count": 15,
   "metadata": {},
   "outputs": [],
   "source": [
    "new_model = Top2Vec.load(\"data/topic_model\")"
   ]
  },
  {
   "cell_type": "code",
   "execution_count": 16,
   "metadata": {},
   "outputs": [
    {
     "name": "stderr",
     "output_type": "stream",
     "text": [
      "2025-01-05 10:10:13,051 - top2vec - INFO - Downloading all-MiniLM-L6-v2 model\n"
     ]
    },
    {
     "name": "stdout",
     "output_type": "stream",
     "text": [
      "Most Relevant Documents:\n",
      "\n",
      "Score: 0.6632\n",
      "\n",
      "Document 3378:\n",
      "Storage of materials – Better coordination of when materials are required and\n",
      "when to request them to be brought to the project – procurement schedule\n",
      "required??\n",
      "--------------------------------------------------\n",
      "Score: 0.6561\n",
      "\n",
      "Document 1172:\n",
      "Programme effectively started in delay due to need for additional procurement\n",
      "time for large packages(scaffolding and roofing) as a result of minimal\n",
      "contractors with the ability to complete the works and cost. Despite the initial\n",
      "delay an EoT of 8 weeks is agreed in principal with no penalties. When obtaining\n",
      "prices from contractors at tender stage consideration needs to be given on their\n",
      "ability and appetite to execute the works in the current competitive climate.\n",
      "Effective communication with the client and recording of delays and variations\n",
      "enabled agreement.\n",
      "--------------------------------------------------\n",
      "Score: 0.6330\n",
      "\n",
      "Document 1819:\n",
      "Identification & Delivery of Materials Late delivery of all materials to the\n",
      "Barge. Including intermittent delivery items of the same order, causing\n",
      "confusion and delays to the project.\n",
      "--------------------------------------------------\n",
      "Score: 0.6255\n",
      "\n",
      "Document 660:\n",
      "Due the nature of this contract lead times on materials are a very important\n",
      "part in meeting deadlines on site. All materials are ordered once material take\n",
      "offs are received from the client so as manufacturing and installation is not\n",
      "delayed. Materials are ordered so as that we run at a minimum wasted material\n",
      "percentage as possible. Where possible we move the surplus materials to our next\n",
      "site. Where possible we buy in bulk so to reduce transportation and gain in\n",
      "reduced rates. Inspection and Quality control of materials is currently being\n",
      "carried out by myself. On such a large mechanical contract again I would have a\n",
      "quality person to assist on a part time basis as this can be very time consuming\n",
      "and pushed to the side from time to time.\n",
      "--------------------------------------------------\n",
      "Score: 0.6193\n",
      "\n",
      "Document 3280:\n",
      "Deliveries - delays from suppliers due to payments being held.\n",
      "--------------------------------------------------\n"
     ]
    }
   ],
   "source": [
    "import textwrap\n",
    "\n",
    "# Example usage of query_documents with text wrapping\n",
    "query = \"delivery delays of procured materials during project\"\n",
    "num_docs = 5\n",
    "\n",
    "# Assuming the model and query_documents function are defined\n",
    "documents, doc_scores, doc_ids = new_model.query_documents(query, num_docs)\n",
    "\n",
    "print(\"Most Relevant Documents:\\n\")\n",
    "for i, (ids,doc, score) in enumerate(zip(doc_ids,documents, doc_scores)):\n",
    "    print(f\"Score: {score:.4f}\\n\")\n",
    "    print(f\"Document {ids}:\")\n",
    "    print(\"\\n\".join(textwrap.wrap(doc, width=80)))  # Wrap the text to 80 characters per line\n",
    "    print(\"-\" * 50)\n"
   ]
  }
 ],
 "metadata": {
  "kernelspec": {
   "display_name": "Python 3",
   "language": "python",
   "name": "python3"
  },
  "language_info": {
   "codemirror_mode": {
    "name": "ipython",
    "version": 3
   },
   "file_extension": ".py",
   "mimetype": "text/x-python",
   "name": "python",
   "nbconvert_exporter": "python",
   "pygments_lexer": "ipython3",
   "version": "3.11.11"
  }
 },
 "nbformat": 4,
 "nbformat_minor": 2
}
